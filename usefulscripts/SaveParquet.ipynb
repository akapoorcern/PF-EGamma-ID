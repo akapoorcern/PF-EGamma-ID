{
 "cells": [
  {
   "cell_type": "code",
   "execution_count": 1,
   "metadata": {},
   "outputs": [],
   "source": [
    "loadnew = 0\n",
    "\n",
    "CommonSel='(ele_pt > 10) & (abs(scl_eta) < 1.442) & (abs(scl_eta) < 2.5)'\n",
    "CommonSelName=\"_HighpTBarrel_\"\n",
    "\n",
    "PromptSel='((matchedToGenEle == 1) | (matchedToGenEle == 2)) & (matchedToGenPhoton==0)'\n",
    "bHadSel='(matchedToGenEle != 1) & (matchedToGenEle != 2) &  (matchedToHadron==3) & (matchedToGenTauJet==0) & (matchedToGenPhoton==0)'\n",
    "QCDSel='(matchedToGenEle ==0) &  (matchedToHadron!=3) & (matchedToGenTauJet==0) & (matchedToGenPhoton==0)'\n",
    "hadtauSel='(matchedToGenEle == 0) & (matchedToGenTauJet==1) & (matchedToGenPhoton==0)'\n",
    "PhoSel='(matchedToGenEle != 1) & (matchedToGenEle != 2) &  (matchedToHadron==0) & (matchedToGenTauJet==0) & (matchedToGenPhoton==1)'"
   ]
  },
  {
   "cell_type": "code",
   "execution_count": 2,
   "metadata": {},
   "outputs": [],
   "source": [
    "loca='./'\n",
    "\n",
    "processes=[{'path':loca+'DYJets_incl_MLL-50_TuneCP5_14TeV-madgraphMLM-pythia8_NEv_3943691_debug.root',\n",
    "            'xsecwt': 1, 'selection':PromptSel, 'EleType':0, 'CommonSelection':CommonSel},\n",
    "\n",
    "           {'path':loca+'QCD_Pt-15to20_bcToE_TuneCP5_13TeV_Run2_NEv_4316068_debug.root',\n",
    "            'xsecwt': 186200.0/4316068, 'selection':bHadSel, 'EleType':1, 'CommonSelection':CommonSel},\n",
    "         \n",
    "           {'path':loca+'QCD_Pt-20to30_bcToE_TuneCP5_13TeV_Run2_NEv_8694646_debug.root',\n",
    "            'xsecwt': 303800.0/8694646, 'selection':bHadSel, 'EleType':1, 'CommonSelection':CommonSel},\n",
    "           \n",
    "           {'path':loca+'QCD_Pt-30to80_bcToE_TuneCP5_13TeV_Run2_NEv_15177630_debug.root',\n",
    "            'xsecwt': 362300.0/15177630, 'selection':bHadSel, 'EleType':1, 'CommonSelection':CommonSel},\n",
    "           \n",
    "           {'path':loca+'QCD_Pt-80to170_bcToE_TuneCP5_13TeV_Run2_NEv_14934946_debug.root',\n",
    "            'xsecwt': 33700.0/14934946, 'selection':bHadSel, 'EleType':1, 'CommonSelection':CommonSel},\n",
    "           \n",
    "           {'path':loca+'QCD_Pt-170to250_bcToE_TuneCP5_13TeV_Run2_NEv_9096781_debug.root',\n",
    "            'xsecwt': 2125.0/9096781, 'selection':bHadSel, 'EleType':1, 'CommonSelection':CommonSel},\n",
    "           \n",
    "           {'path':loca+'QCD_Pt-250toInf_bcToE_TuneCP5_13TeV_Run2_NEv_10191317_debug.root',\n",
    "            'xsecwt': 562.5/10191317, 'selection':bHadSel, 'EleType':1, 'CommonSelection':CommonSel},\n",
    "           \n",
    "           {'path':loca+'QCD_Pt-30to50_EMEnriched_Run3_NEv_20908_debug.root',\n",
    "            'xsecwt': 6396000.0/20908, 'selection':QCDSel, 'EleType':2, 'CommonSelection':CommonSel},\n",
    "           \n",
    "           {'path':loca+'QCD_Pt-50to80_EMEnriched_Run3_NEv_8142174_debug.root',\n",
    "            'xsecwt': 1989000.0/8142174, 'selection':QCDSel, 'EleType':2, 'CommonSelection':CommonSel},\n",
    "           \n",
    "           {'path':loca+'QCD_Pt-80to120_EMEnriched_Run3_NEv_43913_debug.root',\n",
    "            'xsecwt': 366500.0/43913, 'selection':QCDSel, 'EleType':2, 'CommonSelection':CommonSel},\n",
    "           \n",
    "           {'path':loca+'QCD_Pt-120to170_EMEnriched_Run3_NEv_83626_debug.root',\n",
    "            'xsecwt': 66490.0/83626, 'selection':QCDSel, 'EleType':2, 'CommonSelection':CommonSel},\n",
    "           \n",
    "           {'path':loca+'QCD_Pt-170to300_EMEnriched_Run3_NEv_84196_debug.root',\n",
    "            'xsecwt': 16480.0/84196, 'selection':QCDSel, 'EleType':2, 'CommonSelection':CommonSel},\n",
    "           \n",
    "           {'path':loca+'QCD_Pt-300toInf_EMEnriched_Run3_NEv_96365_debug.root',\n",
    "            'xsecwt': 1099.0/96365, 'selection':QCDSel, 'EleType':2, 'CommonSelection':CommonSel},\n",
    "           \n",
    "           {'path':loca+'TauGun_Pt-15to500_14TeV-pythia8_NEv_440000_debug.root',\n",
    "            'xsecwt': 1, 'selection':hadtauSel, 'EleType':3, 'CommonSelection':CommonSel},\n",
    "           \n",
    "           {'path':loca+'GJet_Pt-20to40_DoubleEMEnriched_MGG-80toInf_TuneCP5_14TeV_Pythia8_NEv_7869218_debug.root',\n",
    "            'xsecwt': 232.8/7869218, 'selection':PhoSel, 'EleType':4, 'CommonSelection':CommonSel},\n",
    "           \n",
    "           {'path':loca+'GJet_Pt-40toInf_DoubleEMEnriched_MGG-80toInf_TuneCP5_14TeV_Pythia8_NEv_10406345_debug.root',\n",
    "            'xsecwt': 872.8/10406345, 'selection':PhoSel, 'EleType':4, 'CommonSelection':CommonSel},\n",
    "        ]"
   ]
  },
  {
   "cell_type": "code",
   "execution_count": 3,
   "metadata": {},
   "outputs": [],
   "source": [
    "branches=[\"scl_eta\",\n",
    "          \"ele_pt\",\n",
    "          \"matchedToGenEle\",\n",
    "          \"matchedToGenPhoton\",\n",
    "          \"matchedToGenTauJet\",\n",
    "          \"matchedToHadron\",\n",
    "          \"ele_convDist\",\n",
    "          \"ele_convDcot\",\n",
    "          \"EleMVACats\",\n",
    "          \"ele_fbrem\",\"ele_deltaetain\", \"ele_deltaphiin\", \"ele_oldsigmaietaieta\", \n",
    "          \"ele_oldhe\", \"ele_ep\", \"ele_olde15\", \"ele_eelepout\",\n",
    "          \"ele_kfchi2\", \"ele_kfhits\", \"ele_expected_inner_hits\",\"ele_dr03TkSumPt\",\n",
    "          \"ele_dr03EcalRecHitSumEt\",\"ele_dr03HcalTowerSumEt\",\n",
    "          \"ele_gsfchi2\",\n",
    "          #'ele_conversionVertexFitProbability',\n",
    "          \"ele_nbrem\",'ele_deltaetaseed','ele_hadronicOverEm','ele_olde25max','ele_olde55']\n",
    " "
   ]
  },
  {
   "cell_type": "code",
   "execution_count": 4,
   "metadata": {},
   "outputs": [],
   "source": [
    "def clean(df,xsec=1,sel='',EleType=99):\n",
    "    \n",
    "    df.query(sel,inplace = True)\n",
    "    df[\"EleType\"]=EleType\n",
    "    df[\"NewWt\"]=1.0\n",
    "    df[\"rwt\"]=1.0\n",
    "    df[\"xsec\"]=xsec\n",
    "    \n",
    "    df['ele_fbrem']=df['ele_fbrem'].astype(float)\n",
    "    df['ele_convDist']=df['ele_convDist'].astype(float)\n",
    "    df['ele_convDcot']=df['ele_convDcot'].astype(float)\n",
    "    df.loc[df[\"EleMVACats\"] == 4, \"EleMVACats\"] = 3\n",
    "    print('Selected for EleType ' +str(EleType)+ ' =' + str(df['NewWt'].sum()))\n",
    "    return df"
   ]
  },
  {
   "cell_type": "code",
   "execution_count": 5,
   "metadata": {},
   "outputs": [
    {
     "name": "stdout",
     "output_type": "stream",
     "text": [
      "3.13.0\n"
     ]
    }
   ],
   "source": [
    "import uproot\n",
    "print(uproot.__version__)\n",
    "from dask import delayed\n",
    "import dask.dataframe as dd\n",
    "import pandas as pd\n",
    "import gc\n",
    "\n",
    "def daskframe_from_rootfiles(processes, treepath,branches):\n",
    "    def get_df(file, xsec, selection, EleType, treepath=None,branches=['ele*']):\n",
    "        tree = uproot.open(file)[treepath]\n",
    "        print(file)\n",
    "        #return clean(tree.arrays(branches,library=\"pd\"),xsec=xsec,EleType=EleType)\n",
    "        return clean(tree.pandas.df(branches=branches),xsec=xsec,sel=selection,EleType=EleType)\n",
    "        #return tree.pandas.df()\n",
    "\n",
    "    dfs=[]\n",
    "    for process in processes:\n",
    "        dfs.append(delayed(get_df)(process['path'],process['xsecwt'],process['selection'] +\" & \" + process['CommonSelection'],process['EleType'],treepath, branches))\n",
    "    daskframe = dd.from_delayed(dfs)\n",
    "    return daskframe"
   ]
  },
  {
   "cell_type": "code",
   "execution_count": 6,
   "metadata": {},
   "outputs": [],
   "source": [
    "if loadnew==1:\n",
    "    pddf=daskframe_from_rootfiles(processes,\"ntuplizer/tree\",branches=branches)\n",
    "    df=pddf.compute()\n",
    "    df.to_parquet('df'+CommonSelName+'.parquet.gzip',compression='gzip')\n",
    "    \n",
    "else:\n",
    "    df=pd.read_parquet('df'+CommonSelName+'.parquet.gzip')"
   ]
  },
  {
   "cell_type": "code",
   "execution_count": 7,
   "metadata": {},
   "outputs": [
    {
     "name": "stdout",
     "output_type": "stream",
     "text": [
      "Final DataFrame has 32558780 rows and 33 columns\n"
     ]
    }
   ],
   "source": [
    "print(\"Final DataFrame has \"+str(df.shape[0])+\" rows and \"+str(df.shape[1])+\" columns\")"
   ]
  },
  {
   "cell_type": "code",
   "execution_count": null,
   "metadata": {},
   "outputs": [],
   "source": []
  },
  {
   "cell_type": "code",
   "execution_count": null,
   "metadata": {},
   "outputs": [],
   "source": []
  }
 ],
 "metadata": {
  "kernelspec": {
   "display_name": "Python 3",
   "language": "python",
   "name": "python3"
  },
  "language_info": {
   "codemirror_mode": {
    "name": "ipython",
    "version": 3
   },
   "file_extension": ".py",
   "mimetype": "text/x-python",
   "name": "python",
   "nbconvert_exporter": "python",
   "pygments_lexer": "ipython3",
   "version": "3.9.5"
  }
 },
 "nbformat": 4,
 "nbformat_minor": 4
}
